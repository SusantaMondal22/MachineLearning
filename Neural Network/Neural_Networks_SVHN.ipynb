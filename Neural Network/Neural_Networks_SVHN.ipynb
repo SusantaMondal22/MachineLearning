{
  "nbformat": 4,
  "nbformat_minor": 0,
  "metadata": {
    "colab": {
      "name": "Neural Networks-SVHN.ipynb",
      "provenance": [],
      "collapsed_sections": [],
      "authorship_tag": "ABX9TyNcFWFE+wL2mdGxPsgbY/Sn",
      "include_colab_link": true
    },
    "kernelspec": {
      "name": "python3",
      "display_name": "Python 3"
    }
  },
  "cells": [
    {
      "cell_type": "markdown",
      "metadata": {
        "id": "view-in-github",
        "colab_type": "text"
      },
      "source": [
        "<a href=\"https://colab.research.google.com/github/SusantaMondal22/Reusable-Assests-in-MachineLearning/blob/master/Neural%20Network/Neural_Networks_SVHN.ipynb\" target=\"_parent\"><img src=\"https://colab.research.google.com/assets/colab-badge.svg\" alt=\"Open In Colab\"/></a>"
      ]
    },
    {
      "cell_type": "markdown",
      "metadata": {
        "id": "9IQPZqPkoU9D",
        "colab_type": "text"
      },
      "source": [
        "**Mount the Data set from google Drive**"
      ]
    },
    {
      "cell_type": "code",
      "metadata": {
        "id": "QbBJd8FhZEXX",
        "colab_type": "code",
        "colab": {
          "base_uri": "https://localhost:8080/",
          "height": 122
        },
        "outputId": "fe088977-f242-442a-ca55-bb3213df2422"
      },
      "source": [
        "from google.colab import drive\n",
        "drive.mount('/content/drive')"
      ],
      "execution_count": null,
      "outputs": [
        {
          "output_type": "stream",
          "text": [
            "Go to this URL in a browser: https://accounts.google.com/o/oauth2/auth?client_id=947318989803-6bn6qk8qdgf4n4g3pfee6491hc0brc4i.apps.googleusercontent.com&redirect_uri=urn%3aietf%3awg%3aoauth%3a2.0%3aoob&response_type=code&scope=email%20https%3a%2f%2fwww.googleapis.com%2fauth%2fdocs.test%20https%3a%2f%2fwww.googleapis.com%2fauth%2fdrive%20https%3a%2f%2fwww.googleapis.com%2fauth%2fdrive.photos.readonly%20https%3a%2f%2fwww.googleapis.com%2fauth%2fpeopleapi.readonly\n",
            "\n",
            "Enter your authorization code:\n",
            "··········\n",
            "Mounted at /content/drive\n"
          ],
          "name": "stdout"
        }
      ]
    },
    {
      "cell_type": "markdown",
      "metadata": {
        "id": "We0tBL4Yo0Fa",
        "colab_type": "text"
      },
      "source": [
        "**Import Libraries**"
      ]
    },
    {
      "cell_type": "code",
      "metadata": {
        "id": "pEKWVmof2BrI",
        "colab_type": "code",
        "colab": {
          "base_uri": "https://localhost:8080/",
          "height": 34
        },
        "outputId": "079a4d90-d664-44ba-dbf5-73abfb0cc585"
      },
      "source": [
        "%tensorflow_version 2.x"
      ],
      "execution_count": null,
      "outputs": [
        {
          "output_type": "stream",
          "text": [
            "TensorFlow 2.x selected.\n"
          ],
          "name": "stdout"
        }
      ]
    },
    {
      "cell_type": "code",
      "metadata": {
        "id": "e-900vKkdqKU",
        "colab_type": "code",
        "colab": {}
      },
      "source": [
        "import matplotlib.pyplot as plt\n",
        "from tensorflow.keras.models import Sequential\n",
        "from tensorflow.keras.utils import to_categorical\n",
        "from tensorflow.keras.layers import Activation, Dense\n",
        "from tensorflow.keras import optimizers\n",
        "import numpy as np\n",
        "import pandas as pd\n",
        "import h5py"
      ],
      "execution_count": null,
      "outputs": []
    },
    {
      "cell_type": "markdown",
      "metadata": {
        "id": "ko79zpTppNjG",
        "colab_type": "text"
      },
      "source": [
        "**Fetch the HDF data  identify the datasets**(Data fetching and understand the train/val/test split)"
      ]
    },
    {
      "cell_type": "code",
      "metadata": {
        "id": "o_4eSE6s98bd",
        "colab_type": "code",
        "colab": {
          "base_uri": "https://localhost:8080/",
          "height": 51
        },
        "outputId": "16f5f29d-87d9-47c3-fc93-becb66e97933"
      },
      "source": [
        "hf = h5py.File('/content/drive/My Drive/SVHN_single_grey1.h5', 'r')\n",
        "ls= list(hf.keys())\n",
        "print('Listof dataset in the file :\\n',ls)"
      ],
      "execution_count": null,
      "outputs": [
        {
          "output_type": "stream",
          "text": [
            "Listof dataset in the file :\n",
            " ['X_test', 'X_train', 'X_val', 'y_test', 'y_train', 'y_val']\n"
          ],
          "name": "stdout"
        }
      ]
    },
    {
      "cell_type": "markdown",
      "metadata": {
        "id": "4kPwufgTpkuY",
        "colab_type": "text"
      },
      "source": [
        "The whole data set has Tain,Test and Validation data in the above mentioned keys(In HDF data are stored against differnt keys)"
      ]
    },
    {
      "cell_type": "markdown",
      "metadata": {
        "id": "xqz6z2HBqLfJ",
        "colab_type": "text"
      },
      "source": [
        "Now each datasets are fetched as array format in  the array 'X_test', X_train', 'X_val', 'y_test', 'y_train' and 'y_val'"
      ]
    },
    {
      "cell_type": "code",
      "metadata": {
        "id": "TiKqw5Ok-MjU",
        "colab_type": "code",
        "colab": {}
      },
      "source": [
        "X_train =np.array(hf.get('X_train'))\n",
        "X_test =np.array(hf.get('X_test'))\n",
        "X_val =np.array(hf.get('X_val'))\n",
        "y_train =np.array(hf.get('y_train'))\n",
        "y_test =np.array(hf.get('y_test'))\n",
        "y_val =np.array(hf.get('y_val'))"
      ],
      "execution_count": null,
      "outputs": []
    },
    {
      "cell_type": "code",
      "metadata": {
        "id": "2ps1JP9Trdlq",
        "colab_type": "code",
        "colab": {
          "base_uri": "https://localhost:8080/",
          "height": 34
        },
        "outputId": "09a7b0b5-0110-4787-f98f-692bfa3c0051"
      },
      "source": [
        "hf.close # Hf object is closed as all data are fetched in the array"
      ],
      "execution_count": null,
      "outputs": [
        {
          "output_type": "execute_result",
          "data": {
            "text/plain": [
              "<bound method File.close of <HDF5 file \"SVHN_single_grey1.h5\" (mode r)>>"
            ]
          },
          "metadata": {
            "tags": []
          },
          "execution_count": 6
        }
      ]
    },
    {
      "cell_type": "code",
      "metadata": {
        "id": "V1DpiEmF-Twg",
        "colab_type": "code",
        "colab": {
          "base_uri": "https://localhost:8080/",
          "height": 34
        },
        "outputId": "5cddd2cf-7be4-4be6-de8d-cf856d33bbc8"
      },
      "source": [
        "X_train.shape"
      ],
      "execution_count": null,
      "outputs": [
        {
          "output_type": "execute_result",
          "data": {
            "text/plain": [
              "(42000, 32, 32)"
            ]
          },
          "metadata": {
            "tags": []
          },
          "execution_count": 7
        }
      ]
    },
    {
      "cell_type": "code",
      "metadata": {
        "id": "KzldFwFf-Xg6",
        "colab_type": "code",
        "colab": {
          "base_uri": "https://localhost:8080/",
          "height": 34
        },
        "outputId": "18c4f185-42b1-4c0e-81bb-22602e5892a3"
      },
      "source": [
        "X_test.shape"
      ],
      "execution_count": null,
      "outputs": [
        {
          "output_type": "execute_result",
          "data": {
            "text/plain": [
              "(18000, 32, 32)"
            ]
          },
          "metadata": {
            "tags": []
          },
          "execution_count": 8
        }
      ]
    },
    {
      "cell_type": "code",
      "metadata": {
        "id": "fuUJwx9A-iCT",
        "colab_type": "code",
        "colab": {
          "base_uri": "https://localhost:8080/",
          "height": 34
        },
        "outputId": "a0d1c923-3001-4d21-ce53-527e8dba2d68"
      },
      "source": [
        "X_val.shape"
      ],
      "execution_count": null,
      "outputs": [
        {
          "output_type": "execute_result",
          "data": {
            "text/plain": [
              "(60000, 32, 32)"
            ]
          },
          "metadata": {
            "tags": []
          },
          "execution_count": 9
        }
      ]
    },
    {
      "cell_type": "code",
      "metadata": {
        "id": "ADnZKnTU-nFm",
        "colab_type": "code",
        "colab": {
          "base_uri": "https://localhost:8080/",
          "height": 34
        },
        "outputId": "0653dda2-9c3c-4e30-fcf7-254daec98643"
      },
      "source": [
        "y_train.shape"
      ],
      "execution_count": null,
      "outputs": [
        {
          "output_type": "execute_result",
          "data": {
            "text/plain": [
              "(42000,)"
            ]
          },
          "metadata": {
            "tags": []
          },
          "execution_count": 10
        }
      ]
    },
    {
      "cell_type": "code",
      "metadata": {
        "id": "6YmViBL3QiJE",
        "colab_type": "code",
        "colab": {
          "base_uri": "https://localhost:8080/",
          "height": 34
        },
        "outputId": "464677e6-5291-4c66-ec5c-c6998a064dad"
      },
      "source": [
        "y_test.shape"
      ],
      "execution_count": null,
      "outputs": [
        {
          "output_type": "execute_result",
          "data": {
            "text/plain": [
              "(18000,)"
            ]
          },
          "metadata": {
            "tags": []
          },
          "execution_count": 11
        }
      ]
    },
    {
      "cell_type": "code",
      "metadata": {
        "id": "6IN4mOQWQnug",
        "colab_type": "code",
        "colab": {
          "base_uri": "https://localhost:8080/",
          "height": 34
        },
        "outputId": "a963b3b3-1df1-4749-d696-882188ea7edc"
      },
      "source": [
        "y_val.shape"
      ],
      "execution_count": null,
      "outputs": [
        {
          "output_type": "execute_result",
          "data": {
            "text/plain": [
              "(60000,)"
            ]
          },
          "metadata": {
            "tags": []
          },
          "execution_count": 12
        }
      ]
    },
    {
      "cell_type": "code",
      "metadata": {
        "id": "dVGMkZdFSHVl",
        "colab_type": "code",
        "colab": {
          "base_uri": "https://localhost:8080/",
          "height": 283
        },
        "outputId": "17aef373-2965-469f-cd65-1f22c79e1a4d"
      },
      "source": [
        "plt.imshow(X_train[0])    # show first number in the dataset\n",
        "plt.show()\n",
        "print('Label: ', y_train[0])"
      ],
      "execution_count": null,
      "outputs": [
        {
          "output_type": "display_data",
          "data": {
            "image/png": "[encoded data removed]",
            "text/plain": [
              "<Figure size 432x288 with 1 Axes>"
            ]
          },
          "metadata": {
            "tags": []
          }
        },
        {
          "output_type": "stream",
          "text": [
            "Label:  2\n"
          ],
          "name": "stdout"
        }
      ]
    },
    {
      "cell_type": "code",
      "metadata": {
        "id": "vjcBnauwQsr9",
        "colab_type": "code",
        "colab": {
          "base_uri": "https://localhost:8080/",
          "height": 283
        },
        "outputId": "ecd6e291-0803-4aac-9d80-144bd8a58bc2"
      },
      "source": [
        "plt.imshow(X_test[0])    # show first number in the dataset\n",
        "plt.show()\n",
        "print('Label: ', y_test[0])"
      ],
      "execution_count": null,
      "outputs": [
        {
          "output_type": "display_data",
          "data": {
            "image/png": "[encoded data removed]",
            "text/plain": [
              "<Figure size 432x288 with 1 Axes>"
            ]
          },
          "metadata": {
            "tags": []
          }
        },
        {
          "output_type": "stream",
          "text": [
            "Label:  1\n"
          ],
          "name": "stdout"
        }
      ]
    },
    {
      "cell_type": "code",
      "metadata": {
        "id": "xkPrketisdLT",
        "colab_type": "code",
        "colab": {
          "base_uri": "https://localhost:8080/",
          "height": 283
        },
        "outputId": "8fd2b18b-4c49-46da-a790-3ca1079cbcf1"
      },
      "source": [
        "plt.imshow(X_val[0])    # show first number in the dataset\n",
        "plt.show()\n",
        "print('Label: ', y_val[0])"
      ],
      "execution_count": null,
      "outputs": [
        {
          "output_type": "display_data",
          "data": {
            "image/png": "[encoded data removed]",
            "text/plain": [
              "<Figure size 432x288 with 1 Axes>"
            ]
          },
          "metadata": {
            "tags": []
          }
        },
        {
          "output_type": "stream",
          "text": [
            "Label:  0\n"
          ],
          "name": "stdout"
        }
      ]
    },
    {
      "cell_type": "markdown",
      "metadata": {
        "id": "n1_ni8XXvdpq",
        "colab_type": "text"
      },
      "source": [
        "**Data Pre-processing**\n"
      ]
    },
    {
      "cell_type": "code",
      "metadata": {
        "id": "OUs1IQMivtZZ",
        "colab_type": "code",
        "colab": {}
      },
      "source": [
        "# reshaping X data: (n, 32, 32) => (n, 1024)\n",
        "X_train = X_train.reshape((X_train.shape[0], -1))\n",
        "X_test = X_test.reshape((X_test.shape[0], -1))\n",
        "X_val = X_val.reshape((X_val.shape[0], -1))"
      ],
      "execution_count": null,
      "outputs": []
    },
    {
      "cell_type": "code",
      "metadata": {
        "id": "ZP-m-RJkv6mE",
        "colab_type": "code",
        "colab": {}
      },
      "source": [
        "# converting y data into categorical (one-hot encoding)\n",
        "y_train = to_categorical(y_train)\n",
        "y_test = to_categorical(y_test)\n",
        "y_val = to_categorical(y_val)"
      ],
      "execution_count": null,
      "outputs": []
    },
    {
      "cell_type": "code",
      "metadata": {
        "id": "jzgq4NHWwB1i",
        "colab_type": "code",
        "colab": {
          "base_uri": "https://localhost:8080/",
          "height": 34
        },
        "outputId": "895990ae-2cef-4ba5-e806-63d393b35823"
      },
      "source": [
        "print(X_train.shape, X_test.shape,X_val.shape, y_train.shape, y_test.shape,y_val.shape)"
      ],
      "execution_count": null,
      "outputs": [
        {
          "output_type": "stream",
          "text": [
            "(42000, 1024) (18000, 1024) (60000, 1024) (42000, 10) (18000, 10) (60000, 10)\n"
          ],
          "name": "stdout"
        }
      ]
    },
    {
      "cell_type": "markdown",
      "metadata": {
        "id": "VKnFSZFYHC6E",
        "colab_type": "text"
      },
      "source": [
        "**Feedforward neural network, RELU, activation**(Implement and apply a deep neural network classifier including (feedforward neural network, RELU, activations) "
      ]
    },
    {
      "cell_type": "code",
      "metadata": {
        "id": "VhGQdjvqwSbD",
        "colab_type": "code",
        "colab": {}
      },
      "source": [
        "model = Sequential()"
      ],
      "execution_count": null,
      "outputs": []
    },
    {
      "cell_type": "code",
      "metadata": {
        "id": "TJKM_trQHBvZ",
        "colab_type": "code",
        "colab": {}
      },
      "source": [
        "model.add(Dense(200, input_shape = (1024, )))\n",
        "model.add(Activation('relu'))    \n",
        "model.add(Dense(100))\n",
        "model.add(Activation('relu'))    \n",
        "model.add(Dense(60))\n",
        "model.add(Activation('relu'))    \n",
        "model.add(Dense(30))\n",
        "model.add(Activation('relu'))    \n",
        "model.add(Dense(10))\n",
        "model.add(Activation('softmax'))      "
      ],
      "execution_count": null,
      "outputs": []
    },
    {
      "cell_type": "markdown",
      "metadata": {
        "id": "1o-ZyR2RtEwg",
        "colab_type": "text"
      },
      "source": [
        "Understand and be able to implement (vectorised) backpropagation (cost stochastic gradient descent, cross entropy loss, cost functions) "
      ]
    },
    {
      "cell_type": "code",
      "metadata": {
        "id": "O1SV2gskLJCU",
        "colab_type": "code",
        "colab": {
          "base_uri": "https://localhost:8080/",
          "height": 1000
        },
        "outputId": "1c047f36-4f00-4c5c-e34d-902b22c23654"
      },
      "source": [
        "sgd = optimizers.SGD(lr = 0.001)\n",
        "model.compile(optimizer = sgd, loss = 'categorical_crossentropy', metrics = ['accuracy'])\n",
        "history = model.fit(X_train, y_train, epochs = 30, verbose = 1)"
      ],
      "execution_count": null,
      "outputs": [
        {
          "output_type": "stream",
          "text": [
            "Train on 42000 samples\n",
            "Epoch 1/30\n",
            "42000/42000 [==============================] - 5s 116us/sample - loss: 3.7185 - accuracy: 0.1184\n",
            "Epoch 2/30\n",
            "42000/42000 [==============================] - 4s 101us/sample - loss: 2.2450 - accuracy: 0.1536\n",
            "Epoch 3/30\n",
            "42000/42000 [==============================] - 4s 102us/sample - loss: 2.2068 - accuracy: 0.1619\n",
            "Epoch 4/30\n",
            "42000/42000 [==============================] - 4s 101us/sample - loss: 2.1781 - accuracy: 0.1735\n",
            "Epoch 5/30\n",
            "42000/42000 [==============================] - 4s 101us/sample - loss: 2.1265 - accuracy: 0.2032\n",
            "Epoch 6/30\n",
            "42000/42000 [==============================] - 4s 99us/sample - loss: 2.0585 - accuracy: 0.2521\n",
            "Epoch 7/30\n",
            "42000/42000 [==============================] - 4s 101us/sample - loss: 1.9716 - accuracy: 0.2992\n",
            "Epoch 8/30\n",
            "42000/42000 [==============================] - 4s 103us/sample - loss: 1.8745 - accuracy: 0.3450\n",
            "Epoch 9/30\n",
            "42000/42000 [==============================] - 4s 104us/sample - loss: 1.7787 - accuracy: 0.3762\n",
            "Epoch 10/30\n",
            "42000/42000 [==============================] - 4s 104us/sample - loss: 1.6983 - accuracy: 0.4051\n",
            "Epoch 11/30\n",
            "42000/42000 [==============================] - 4s 103us/sample - loss: 1.6260 - accuracy: 0.4341\n",
            "Epoch 12/30\n",
            "42000/42000 [==============================] - 4s 103us/sample - loss: 1.5634 - accuracy: 0.4694\n",
            "Epoch 13/30\n",
            "42000/42000 [==============================] - 4s 103us/sample - loss: 1.5052 - accuracy: 0.5039\n",
            "Epoch 14/30\n",
            "42000/42000 [==============================] - 4s 102us/sample - loss: 1.4525 - accuracy: 0.5295\n",
            "Epoch 15/30\n",
            "42000/42000 [==============================] - 4s 103us/sample - loss: 1.4031 - accuracy: 0.5444\n",
            "Epoch 16/30\n",
            "42000/42000 [==============================] - 4s 102us/sample - loss: 1.3537 - accuracy: 0.5608\n",
            "Epoch 17/30\n",
            "42000/42000 [==============================] - 4s 104us/sample - loss: 1.2942 - accuracy: 0.5837\n",
            "Epoch 18/30\n",
            "42000/42000 [==============================] - 4s 100us/sample - loss: 1.2462 - accuracy: 0.5984\n",
            "Epoch 19/30\n",
            "42000/42000 [==============================] - 4s 103us/sample - loss: 1.2138 - accuracy: 0.6100\n",
            "Epoch 20/30\n",
            "42000/42000 [==============================] - 4s 102us/sample - loss: 1.1749 - accuracy: 0.6259\n",
            "Epoch 21/30\n",
            "42000/42000 [==============================] - 4s 101us/sample - loss: 1.1508 - accuracy: 0.6325\n",
            "Epoch 22/30\n",
            "42000/42000 [==============================] - 4s 103us/sample - loss: 1.1223 - accuracy: 0.6432\n",
            "Epoch 23/30\n",
            "42000/42000 [==============================] - 4s 103us/sample - loss: 1.1002 - accuracy: 0.6495\n",
            "Epoch 24/30\n",
            "42000/42000 [==============================] - 4s 102us/sample - loss: 1.0853 - accuracy: 0.6591\n",
            "Epoch 25/30\n",
            "42000/42000 [==============================] - 5s 111us/sample - loss: 1.0654 - accuracy: 0.6653\n",
            "Epoch 26/30\n",
            "42000/42000 [==============================] - 5s 112us/sample - loss: 1.0491 - accuracy: 0.6697\n",
            "Epoch 27/30\n",
            "42000/42000 [==============================] - 4s 101us/sample - loss: 1.0331 - accuracy: 0.6757\n",
            "Epoch 28/30\n",
            "42000/42000 [==============================] - 4s 96us/sample - loss: 1.0173 - accuracy: 0.6782\n",
            "Epoch 29/30\n",
            "42000/42000 [==============================] - 4s 100us/sample - loss: 1.0058 - accuracy: 0.6867\n",
            "Epoch 30/30\n",
            "42000/42000 [==============================] - 4s 99us/sample - loss: 0.9920 - accuracy: 0.6885\n"
          ],
          "name": "stdout"
        }
      ]
    },
    {
      "cell_type": "code",
      "metadata": {
        "id": "slliGpcJRXoq",
        "colab_type": "code",
        "colab": {
          "base_uri": "https://localhost:8080/",
          "height": 34
        },
        "outputId": "4eee8d12-dac9-4808-ef7a-37b2c8f1d3e7"
      },
      "source": [
        "results = model.evaluate(X_test, y_test)"
      ],
      "execution_count": null,
      "outputs": [
        {
          "output_type": "stream",
          "text": [
            "18000/18000 [==============================] - 1s 57us/sample - loss: 1.0185 - accuracy: 0.6889\n"
          ],
          "name": "stdout"
        }
      ]
    },
    {
      "cell_type": "markdown",
      "metadata": {
        "id": "EX2EVxOktOFB",
        "colab_type": "text"
      },
      "source": [
        "Accuracy is not that good"
      ]
    },
    {
      "cell_type": "markdown",
      "metadata": {
        "id": "D2QQHB4PRjej",
        "colab_type": "text"
      },
      "source": [
        "**Batch Normalization**(Implement batch normalization for training the neural network )"
      ]
    },
    {
      "cell_type": "code",
      "metadata": {
        "id": "IBwJgoPWRgNV",
        "colab_type": "code",
        "colab": {}
      },
      "source": [
        "from tensorflow.keras.layers import BatchNormalization, Dropout"
      ],
      "execution_count": null,
      "outputs": []
    },
    {
      "cell_type": "code",
      "metadata": {
        "id": "AWyeS8ZASAb3",
        "colab_type": "code",
        "colab": {}
      },
      "source": [
        "def mlp_model():\n",
        "    model = Sequential()\n",
        "    \n",
        "    model.add(Dense(200, input_shape = (1024, )))\n",
        "    model.add(BatchNormalization())                    \n",
        "    model.add(Activation('relu'))    \n",
        "    model.add(Dense(100))\n",
        "    model.add(BatchNormalization())                    \n",
        "    model.add(Activation('relu'))    \n",
        "    model.add(Dense(60))\n",
        "    model.add(BatchNormalization())                    \n",
        "    model.add(Activation('relu'))    \n",
        "    model.add(Dense(30))\n",
        "    model.add(BatchNormalization())                    \n",
        "    model.add(Activation('relu'))    \n",
        "    model.add(Dense(10))\n",
        "    model.add(Activation('softmax'))\n",
        "    \n",
        "    sgd = optimizers.SGD(lr = 0.001)\n",
        "    model.compile(optimizer = sgd, loss = 'categorical_crossentropy', metrics = ['accuracy'])\n",
        "    \n",
        "    return model"
      ],
      "execution_count": null,
      "outputs": []
    },
    {
      "cell_type": "code",
      "metadata": {
        "id": "oHe1RkclSV5R",
        "colab_type": "code",
        "colab": {
          "base_uri": "https://localhost:8080/",
          "height": 1000
        },
        "outputId": "e25de294-2205-4a88-963d-282f178a4f92"
      },
      "source": [
        "model = mlp_model()\n",
        "history = model.fit(X_train, y_train, epochs = 30, verbose = 1)"
      ],
      "execution_count": null,
      "outputs": [
        {
          "output_type": "stream",
          "text": [
            "Train on 42000 samples\n",
            "Epoch 1/30\n",
            "42000/42000 [==============================] - 6s 152us/sample - loss: 2.3749 - accuracy: 0.1473\n",
            "Epoch 2/30\n",
            "42000/42000 [==============================] - 5s 131us/sample - loss: 2.1307 - accuracy: 0.2495\n",
            "Epoch 3/30\n",
            "42000/42000 [==============================] - 6s 141us/sample - loss: 1.9545 - accuracy: 0.3439\n",
            "Epoch 4/30\n",
            "42000/42000 [==============================] - 6s 141us/sample - loss: 1.7940 - accuracy: 0.4186\n",
            "Epoch 5/30\n",
            "42000/42000 [==============================] - 5s 130us/sample - loss: 1.6635 - accuracy: 0.4693\n",
            "Epoch 6/30\n",
            "42000/42000 [==============================] - 5s 130us/sample - loss: 1.5537 - accuracy: 0.5065\n",
            "Epoch 7/30\n",
            "42000/42000 [==============================] - 5s 130us/sample - loss: 1.4611 - accuracy: 0.5400\n",
            "Epoch 8/30\n",
            "42000/42000 [==============================] - 5s 130us/sample - loss: 1.3895 - accuracy: 0.5628\n",
            "Epoch 9/30\n",
            "42000/42000 [==============================] - 5s 128us/sample - loss: 1.3241 - accuracy: 0.5850\n",
            "Epoch 10/30\n",
            "42000/42000 [==============================] - 5s 130us/sample - loss: 1.2661 - accuracy: 0.6032\n",
            "Epoch 11/30\n",
            "42000/42000 [==============================] - 5s 131us/sample - loss: 1.2205 - accuracy: 0.6168\n",
            "Epoch 12/30\n",
            "42000/42000 [==============================] - 5s 130us/sample - loss: 1.1764 - accuracy: 0.6330\n",
            "Epoch 13/30\n",
            "42000/42000 [==============================] - 5s 130us/sample - loss: 1.1349 - accuracy: 0.6452\n",
            "Epoch 14/30\n",
            "42000/42000 [==============================] - 5s 130us/sample - loss: 1.0990 - accuracy: 0.6548\n",
            "Epoch 15/30\n",
            "42000/42000 [==============================] - 5s 130us/sample - loss: 1.0715 - accuracy: 0.6638\n",
            "Epoch 16/30\n",
            "42000/42000 [==============================] - 6s 139us/sample - loss: 1.0332 - accuracy: 0.6755\n",
            "Epoch 17/30\n",
            "42000/42000 [==============================] - 5s 129us/sample - loss: 1.0098 - accuracy: 0.6827\n",
            "Epoch 18/30\n",
            "42000/42000 [==============================] - 5s 128us/sample - loss: 0.9917 - accuracy: 0.6873\n",
            "Epoch 19/30\n",
            "42000/42000 [==============================] - 5s 128us/sample - loss: 0.9596 - accuracy: 0.6998\n",
            "Epoch 20/30\n",
            "42000/42000 [==============================] - 5s 126us/sample - loss: 0.9412 - accuracy: 0.7045\n",
            "Epoch 21/30\n",
            "42000/42000 [==============================] - 5s 125us/sample - loss: 0.9263 - accuracy: 0.7074\n",
            "Epoch 22/30\n",
            "42000/42000 [==============================] - 5s 127us/sample - loss: 0.9050 - accuracy: 0.7170\n",
            "Epoch 23/30\n",
            "42000/42000 [==============================] - 5s 129us/sample - loss: 0.8920 - accuracy: 0.7197\n",
            "Epoch 24/30\n",
            "42000/42000 [==============================] - 5s 127us/sample - loss: 0.8776 - accuracy: 0.7233\n",
            "Epoch 25/30\n",
            "42000/42000 [==============================] - 5s 128us/sample - loss: 0.8590 - accuracy: 0.7294\n",
            "Epoch 26/30\n",
            "42000/42000 [==============================] - 5s 127us/sample - loss: 0.8450 - accuracy: 0.7347\n",
            "Epoch 27/30\n",
            "42000/42000 [==============================] - 5s 131us/sample - loss: 0.8371 - accuracy: 0.7389\n",
            "Epoch 28/30\n",
            "42000/42000 [==============================] - 5s 128us/sample - loss: 0.8209 - accuracy: 0.7410\n",
            "Epoch 29/30\n",
            "42000/42000 [==============================] - 5s 130us/sample - loss: 0.8081 - accuracy: 0.7466\n",
            "Epoch 30/30\n",
            "42000/42000 [==============================] - 5s 130us/sample - loss: 0.7953 - accuracy: 0.7507\n"
          ],
          "name": "stdout"
        }
      ]
    },
    {
      "cell_type": "code",
      "metadata": {
        "id": "zsgNac8mT45e",
        "colab_type": "code",
        "colab": {
          "base_uri": "https://localhost:8080/",
          "height": 34
        },
        "outputId": "d0c617d1-610d-4f64-e318-07f55a810645"
      },
      "source": [
        "results = model.evaluate(X_test, y_test)"
      ],
      "execution_count": null,
      "outputs": [
        {
          "output_type": "stream",
          "text": [
            "18000/18000 [==============================] - 1s 67us/sample - loss: 0.7642 - accuracy: 0.7676\n"
          ],
          "name": "stdout"
        }
      ]
    },
    {
      "cell_type": "markdown",
      "metadata": {
        "id": "sJy-hZOvtjjT",
        "colab_type": "text"
      },
      "source": [
        "Accuracy has been improved."
      ]
    },
    {
      "cell_type": "code",
      "metadata": {
        "id": "Ojqe2MyCuAtD",
        "colab_type": "code",
        "colab": {
          "base_uri": "https://localhost:8080/",
          "height": 34
        },
        "outputId": "c9fe3c59-f7fa-4242-f0d4-e0182d1e774e"
      },
      "source": [
        "print('Test accuracy: ', results[1])"
      ],
      "execution_count": null,
      "outputs": [
        {
          "output_type": "stream",
          "text": [
            "Test accuracy:  0.76755553\n"
          ],
          "name": "stdout"
        }
      ]
    },
    {
      "cell_type": "markdown",
      "metadata": {
        "id": "q2BO45DWUSR8",
        "colab_type": "text"
      },
      "source": [
        "**Drop out**(tried Drop out with ADAM optimizer)"
      ]
    },
    {
      "cell_type": "code",
      "metadata": {
        "id": "tzPdocWyUYtD",
        "colab_type": "code",
        "colab": {}
      },
      "source": [
        "def mlp_model_dp():\n",
        "    model = Sequential()\n",
        "    \n",
        "    model.add(Dense(200, input_shape = (1024, ), kernel_initializer='he_normal'))\n",
        "    model.add(BatchNormalization())\n",
        "    model.add(Activation('relu'))\n",
        "    model.add(Dropout(0.2))\n",
        "    model.add(Dense(100, kernel_initializer='he_normal'))\n",
        "    model.add(BatchNormalization())\n",
        "    model.add(Activation('relu'))    \n",
        "    model.add(Dropout(0.2))\n",
        "    model.add(Dense(60, kernel_initializer='he_normal'))\n",
        "    model.add(BatchNormalization())\n",
        "    model.add(Activation('relu'))\n",
        "    model.add(Dropout(0.2))\n",
        "    model.add(Dense(30, kernel_initializer='he_normal'))\n",
        "    model.add(BatchNormalization())\n",
        "    model.add(Activation('relu'))\n",
        "    model.add(Dropout(0.2))\n",
        "    model.add(Dense(10, kernel_initializer='he_normal'))\n",
        "    model.add(Activation('softmax'))\n",
        "    \n",
        "    adam = optimizers.Adam(lr = 0.001)\n",
        "    model.compile(optimizer = adam, loss = 'categorical_crossentropy', metrics = ['accuracy'])\n",
        "    \n",
        "    return model"
      ],
      "execution_count": null,
      "outputs": []
    },
    {
      "cell_type": "code",
      "metadata": {
        "id": "Ip-pl5sYUmcO",
        "colab_type": "code",
        "colab": {
          "base_uri": "https://localhost:8080/",
          "height": 1000
        },
        "outputId": "199618de-3708-4c87-b008-0c6ed30a33ea"
      },
      "source": [
        "model = mlp_model_dp()\n",
        "history = model.fit(X_train, y_train, epochs = 30, verbose = 1)"
      ],
      "execution_count": null,
      "outputs": [
        {
          "output_type": "stream",
          "text": [
            "Train on 42000 samples\n",
            "Epoch 1/30\n",
            "42000/42000 [==============================] - 10s 232us/sample - loss: 2.0185 - accuracy: 0.2683\n",
            "Epoch 2/30\n",
            "42000/42000 [==============================] - 9s 206us/sample - loss: 1.5734 - accuracy: 0.4567\n",
            "Epoch 3/30\n",
            "42000/42000 [==============================] - 8s 200us/sample - loss: 1.3940 - accuracy: 0.5428\n",
            "Epoch 4/30\n",
            "42000/42000 [==============================] - 9s 202us/sample - loss: 1.2686 - accuracy: 0.5928\n",
            "Epoch 5/30\n",
            "42000/42000 [==============================] - 8s 201us/sample - loss: 1.1864 - accuracy: 0.6250\n",
            "Epoch 6/30\n",
            "42000/42000 [==============================] - 8s 201us/sample - loss: 1.1286 - accuracy: 0.6469\n",
            "Epoch 7/30\n",
            "42000/42000 [==============================] - 9s 206us/sample - loss: 1.0776 - accuracy: 0.6651\n",
            "Epoch 8/30\n",
            "42000/42000 [==============================] - 9s 203us/sample - loss: 1.0416 - accuracy: 0.6747\n",
            "Epoch 9/30\n",
            "42000/42000 [==============================] - 9s 203us/sample - loss: 1.0120 - accuracy: 0.6875\n",
            "Epoch 10/30\n",
            "42000/42000 [==============================] - 8s 202us/sample - loss: 0.9953 - accuracy: 0.6943\n",
            "Epoch 11/30\n",
            "42000/42000 [==============================] - 8s 200us/sample - loss: 0.9682 - accuracy: 0.7010\n",
            "Epoch 12/30\n",
            "42000/42000 [==============================] - 8s 201us/sample - loss: 0.9516 - accuracy: 0.7058\n",
            "Epoch 13/30\n",
            "42000/42000 [==============================] - 9s 204us/sample - loss: 0.9311 - accuracy: 0.7137\n",
            "Epoch 14/30\n",
            "42000/42000 [==============================] - 9s 205us/sample - loss: 0.9149 - accuracy: 0.7183\n",
            "Epoch 15/30\n",
            "42000/42000 [==============================] - 9s 208us/sample - loss: 0.9017 - accuracy: 0.7221\n",
            "Epoch 16/30\n",
            "42000/42000 [==============================] - 10s 234us/sample - loss: 0.8869 - accuracy: 0.7278\n",
            "Epoch 17/30\n",
            "42000/42000 [==============================] - 9s 204us/sample - loss: 0.8763 - accuracy: 0.7302\n",
            "Epoch 18/30\n",
            "42000/42000 [==============================] - 9s 204us/sample - loss: 0.8651 - accuracy: 0.7348\n",
            "Epoch 19/30\n",
            "42000/42000 [==============================] - 8s 200us/sample - loss: 0.8628 - accuracy: 0.7364\n",
            "Epoch 20/30\n",
            "42000/42000 [==============================] - 8s 200us/sample - loss: 0.8524 - accuracy: 0.7392\n",
            "Epoch 21/30\n",
            "42000/42000 [==============================] - 8s 202us/sample - loss: 0.8402 - accuracy: 0.7426\n",
            "Epoch 22/30\n",
            "42000/42000 [==============================] - 8s 202us/sample - loss: 0.8391 - accuracy: 0.7428\n",
            "Epoch 23/30\n",
            "42000/42000 [==============================] - 8s 202us/sample - loss: 0.8239 - accuracy: 0.7462\n",
            "Epoch 24/30\n",
            "42000/42000 [==============================] - 8s 201us/sample - loss: 0.8194 - accuracy: 0.7505\n",
            "Epoch 25/30\n",
            "42000/42000 [==============================] - 8s 200us/sample - loss: 0.8100 - accuracy: 0.7515\n",
            "Epoch 26/30\n",
            "42000/42000 [==============================] - 8s 202us/sample - loss: 0.8103 - accuracy: 0.7534\n",
            "Epoch 27/30\n",
            "42000/42000 [==============================] - 8s 202us/sample - loss: 0.7999 - accuracy: 0.7543\n",
            "Epoch 28/30\n",
            "42000/42000 [==============================] - 9s 208us/sample - loss: 0.7954 - accuracy: 0.7564\n",
            "Epoch 29/30\n",
            "42000/42000 [==============================] - 9s 208us/sample - loss: 0.7881 - accuracy: 0.7598\n",
            "Epoch 30/30\n",
            "42000/42000 [==============================] - 9s 207us/sample - loss: 0.7879 - accuracy: 0.7602\n"
          ],
          "name": "stdout"
        }
      ]
    },
    {
      "cell_type": "code",
      "metadata": {
        "id": "vqrSdg43VziZ",
        "colab_type": "code",
        "colab": {
          "base_uri": "https://localhost:8080/",
          "height": 34
        },
        "outputId": "e292298f-ce6a-4f8b-fac2-14b899ed0d7e"
      },
      "source": [
        "results = model.evaluate(X_test, y_test)"
      ],
      "execution_count": null,
      "outputs": [
        {
          "output_type": "stream",
          "text": [
            "18000/18000 [==============================] - 1s 75us/sample - loss: 0.8137 - accuracy: 0.7439\n"
          ],
          "name": "stdout"
        }
      ]
    },
    {
      "cell_type": "markdown",
      "metadata": {
        "id": "n7846uZHtoSN",
        "colab_type": "text"
      },
      "source": [
        "Though the training accuracy slightly increased  by including drop out but model little bit overfitted "
      ]
    },
    {
      "cell_type": "code",
      "metadata": {
        "id": "T27Y3d2ZaZJ8",
        "colab_type": "code",
        "colab": {}
      },
      "source": [
        "drive.flush_and_unmount()"
      ],
      "execution_count": null,
      "outputs": []
    },
    {
      "cell_type": "code",
      "metadata": {
        "id": "ZbTafu2kKyHy",
        "colab_type": "code",
        "colab": {}
      },
      "source": [
        ""
      ],
      "execution_count": null,
      "outputs": []
    }
  ]
}